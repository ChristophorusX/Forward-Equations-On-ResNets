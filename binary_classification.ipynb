{
 "cells": [
  {
   "cell_type": "markdown",
   "metadata": {},
   "source": [
    "# Binary Classification with Neural Networks"
   ]
  },
  {
   "cell_type": "markdown",
   "metadata": {},
   "source": [
    "## Imports and Plot Setup"
   ]
  },
  {
   "cell_type": "code",
   "execution_count": 1,
   "metadata": {
    "ExecuteTime": {
     "end_time": "2018-04-08T15:06:40.072268Z",
     "start_time": "2018-04-08T15:06:30.165527Z"
    }
   },
   "outputs": [],
   "source": [
    "import argparse\n",
    "import torch\n",
    "import torchvision\n",
    "import torch.nn as nn\n",
    "import torch.nn.functional as F\n",
    "import torch.optim as optim\n",
    "from torchvision import datasets, transforms\n",
    "from torch.autograd import Variable\n",
    "import numpy as np\n",
    "from sklearn import preprocessing\n",
    "from torch.nn import init\n",
    "import math\n",
    "import pandas as pd\n",
    "\n",
    "import matplotlib.pyplot as plt\n",
    "%matplotlib inline\n",
    "plt.style.use('ggplot')\n",
    "plt.rc('text', usetex=True)\n",
    "plt.rc('font', family='serif')\n",
    "\n",
    "pd.options.display.max_columns = 999\n",
    "pd.options.display.max_rows = 20"
   ]
  },
  {
   "cell_type": "markdown",
   "metadata": {},
   "source": [
    "## Data Preprocessing"
   ]
  },
  {
   "cell_type": "code",
   "execution_count": 20,
   "metadata": {
    "ExecuteTime": {
     "end_time": "2018-04-08T15:15:55.605363Z",
     "start_time": "2018-04-08T15:15:55.536738Z"
    }
   },
   "outputs": [],
   "source": [
    "import numpy as np\n",
    "import pickle\n",
    "from sklearn import preprocessing\n",
    "from sklearn.utils import shuffle\n",
    "import re\n",
    "\n",
    "# ok        \n",
    "def preprocessor_libsvm_data(filename, format_label_func=lambda _: _):\n",
    "    with open('./uci/' + filename + '.data', 'r') as inputfile:\n",
    "        features = []\n",
    "        labels = []\n",
    "        for line in inputfile:\n",
    "            container = line.rstrip().split()\n",
    "            label = float(container[0])\n",
    "            label = int(format_label_func(label))\n",
    "            del container[0]\n",
    "            pattern = re.compile(r\"[-+]?\\d+:([-+]?\\d*\\.\\d+|[-+]?\\d+)\")\n",
    "            feature = []\n",
    "            for phrase in container:\n",
    "                # print(phrase)\n",
    "                target = re.findall(pattern, phrase)\n",
    "                # print(target)\n",
    "                feature.append(float(target[0]))\n",
    "            features.append(feature)\n",
    "            labels.append(label)\n",
    "        classes = list(set(labels))\n",
    "        for i in range(len(labels)):\n",
    "            if labels[i] == classes[0]:\n",
    "                labels[i] = 1\n",
    "            else:\n",
    "                labels[i] = 0\n",
    "        features = np.array(features)\n",
    "        labels = np.array(labels).reshape((-1,1))\n",
    "        labels = labels.astype(np.float)\n",
    "        data = np.concatenate((features,labels),axis=1)\n",
    "        return data"
   ]
  },
  {
   "cell_type": "code",
   "execution_count": 21,
   "metadata": {
    "ExecuteTime": {
     "end_time": "2018-04-08T15:15:56.293042Z",
     "start_time": "2018-04-08T15:15:56.283404Z"
    }
   },
   "outputs": [],
   "source": [
    "def load_data(dataset):\n",
    "    data = preprocessor_libsvm_data(dataset)\n",
    "    row, col = data.shape\n",
    "    data = pd.DataFrame(data)\n",
    "    data[[col - 1]] = data[[col - 1]].astype('int')\n",
    "    return data"
   ]
  },
  {
   "cell_type": "code",
   "execution_count": 47,
   "metadata": {
    "ExecuteTime": {
     "end_time": "2018-04-08T15:45:53.170974Z",
     "start_time": "2018-04-08T15:45:53.102253Z"
    }
   },
   "outputs": [
    {
     "data": {
      "text/html": [
       "<div>\n",
       "<style scoped>\n",
       "    .dataframe tbody tr th:only-of-type {\n",
       "        vertical-align: middle;\n",
       "    }\n",
       "\n",
       "    .dataframe tbody tr th {\n",
       "        vertical-align: top;\n",
       "    }\n",
       "\n",
       "    .dataframe thead th {\n",
       "        text-align: right;\n",
       "    }\n",
       "</style>\n",
       "<table border=\"1\" class=\"dataframe\">\n",
       "  <thead>\n",
       "    <tr style=\"text-align: right;\">\n",
       "      <th></th>\n",
       "      <th>0</th>\n",
       "      <th>1</th>\n",
       "      <th>2</th>\n",
       "      <th>3</th>\n",
       "      <th>4</th>\n",
       "      <th>5</th>\n",
       "      <th>6</th>\n",
       "      <th>7</th>\n",
       "      <th>8</th>\n",
       "      <th>9</th>\n",
       "      <th>10</th>\n",
       "    </tr>\n",
       "  </thead>\n",
       "  <tbody>\n",
       "    <tr>\n",
       "      <th>0</th>\n",
       "      <td>1000025.0</td>\n",
       "      <td>5.0</td>\n",
       "      <td>1.0</td>\n",
       "      <td>1.0</td>\n",
       "      <td>1.0</td>\n",
       "      <td>2.0</td>\n",
       "      <td>1.0</td>\n",
       "      <td>3.0</td>\n",
       "      <td>1.0</td>\n",
       "      <td>1.0</td>\n",
       "      <td>1</td>\n",
       "    </tr>\n",
       "    <tr>\n",
       "      <th>1</th>\n",
       "      <td>1002945.0</td>\n",
       "      <td>5.0</td>\n",
       "      <td>4.0</td>\n",
       "      <td>4.0</td>\n",
       "      <td>5.0</td>\n",
       "      <td>7.0</td>\n",
       "      <td>10.0</td>\n",
       "      <td>3.0</td>\n",
       "      <td>2.0</td>\n",
       "      <td>1.0</td>\n",
       "      <td>1</td>\n",
       "    </tr>\n",
       "    <tr>\n",
       "      <th>2</th>\n",
       "      <td>1015425.0</td>\n",
       "      <td>3.0</td>\n",
       "      <td>1.0</td>\n",
       "      <td>1.0</td>\n",
       "      <td>1.0</td>\n",
       "      <td>2.0</td>\n",
       "      <td>2.0</td>\n",
       "      <td>3.0</td>\n",
       "      <td>1.0</td>\n",
       "      <td>1.0</td>\n",
       "      <td>1</td>\n",
       "    </tr>\n",
       "    <tr>\n",
       "      <th>3</th>\n",
       "      <td>1016277.0</td>\n",
       "      <td>6.0</td>\n",
       "      <td>8.0</td>\n",
       "      <td>8.0</td>\n",
       "      <td>1.0</td>\n",
       "      <td>3.0</td>\n",
       "      <td>4.0</td>\n",
       "      <td>3.0</td>\n",
       "      <td>7.0</td>\n",
       "      <td>1.0</td>\n",
       "      <td>1</td>\n",
       "    </tr>\n",
       "    <tr>\n",
       "      <th>4</th>\n",
       "      <td>1017023.0</td>\n",
       "      <td>4.0</td>\n",
       "      <td>1.0</td>\n",
       "      <td>1.0</td>\n",
       "      <td>3.0</td>\n",
       "      <td>2.0</td>\n",
       "      <td>1.0</td>\n",
       "      <td>3.0</td>\n",
       "      <td>1.0</td>\n",
       "      <td>1.0</td>\n",
       "      <td>1</td>\n",
       "    </tr>\n",
       "    <tr>\n",
       "      <th>5</th>\n",
       "      <td>1017122.0</td>\n",
       "      <td>8.0</td>\n",
       "      <td>10.0</td>\n",
       "      <td>10.0</td>\n",
       "      <td>8.0</td>\n",
       "      <td>7.0</td>\n",
       "      <td>10.0</td>\n",
       "      <td>9.0</td>\n",
       "      <td>7.0</td>\n",
       "      <td>1.0</td>\n",
       "      <td>0</td>\n",
       "    </tr>\n",
       "    <tr>\n",
       "      <th>6</th>\n",
       "      <td>1018099.0</td>\n",
       "      <td>1.0</td>\n",
       "      <td>1.0</td>\n",
       "      <td>1.0</td>\n",
       "      <td>1.0</td>\n",
       "      <td>2.0</td>\n",
       "      <td>10.0</td>\n",
       "      <td>3.0</td>\n",
       "      <td>1.0</td>\n",
       "      <td>1.0</td>\n",
       "      <td>1</td>\n",
       "    </tr>\n",
       "    <tr>\n",
       "      <th>7</th>\n",
       "      <td>1018561.0</td>\n",
       "      <td>2.0</td>\n",
       "      <td>1.0</td>\n",
       "      <td>2.0</td>\n",
       "      <td>1.0</td>\n",
       "      <td>2.0</td>\n",
       "      <td>1.0</td>\n",
       "      <td>3.0</td>\n",
       "      <td>1.0</td>\n",
       "      <td>1.0</td>\n",
       "      <td>1</td>\n",
       "    </tr>\n",
       "    <tr>\n",
       "      <th>8</th>\n",
       "      <td>1033078.0</td>\n",
       "      <td>2.0</td>\n",
       "      <td>1.0</td>\n",
       "      <td>1.0</td>\n",
       "      <td>1.0</td>\n",
       "      <td>2.0</td>\n",
       "      <td>1.0</td>\n",
       "      <td>1.0</td>\n",
       "      <td>1.0</td>\n",
       "      <td>5.0</td>\n",
       "      <td>1</td>\n",
       "    </tr>\n",
       "    <tr>\n",
       "      <th>9</th>\n",
       "      <td>1033078.0</td>\n",
       "      <td>4.0</td>\n",
       "      <td>2.0</td>\n",
       "      <td>1.0</td>\n",
       "      <td>1.0</td>\n",
       "      <td>2.0</td>\n",
       "      <td>1.0</td>\n",
       "      <td>2.0</td>\n",
       "      <td>1.0</td>\n",
       "      <td>1.0</td>\n",
       "      <td>1</td>\n",
       "    </tr>\n",
       "    <tr>\n",
       "      <th>...</th>\n",
       "      <td>...</td>\n",
       "      <td>...</td>\n",
       "      <td>...</td>\n",
       "      <td>...</td>\n",
       "      <td>...</td>\n",
       "      <td>...</td>\n",
       "      <td>...</td>\n",
       "      <td>...</td>\n",
       "      <td>...</td>\n",
       "      <td>...</td>\n",
       "      <td>...</td>\n",
       "    </tr>\n",
       "    <tr>\n",
       "      <th>673</th>\n",
       "      <td>654546.0</td>\n",
       "      <td>1.0</td>\n",
       "      <td>1.0</td>\n",
       "      <td>1.0</td>\n",
       "      <td>1.0</td>\n",
       "      <td>2.0</td>\n",
       "      <td>1.0</td>\n",
       "      <td>1.0</td>\n",
       "      <td>1.0</td>\n",
       "      <td>8.0</td>\n",
       "      <td>1</td>\n",
       "    </tr>\n",
       "    <tr>\n",
       "      <th>674</th>\n",
       "      <td>654546.0</td>\n",
       "      <td>1.0</td>\n",
       "      <td>1.0</td>\n",
       "      <td>1.0</td>\n",
       "      <td>3.0</td>\n",
       "      <td>2.0</td>\n",
       "      <td>1.0</td>\n",
       "      <td>1.0</td>\n",
       "      <td>1.0</td>\n",
       "      <td>1.0</td>\n",
       "      <td>1</td>\n",
       "    </tr>\n",
       "    <tr>\n",
       "      <th>675</th>\n",
       "      <td>695091.0</td>\n",
       "      <td>5.0</td>\n",
       "      <td>10.0</td>\n",
       "      <td>10.0</td>\n",
       "      <td>5.0</td>\n",
       "      <td>4.0</td>\n",
       "      <td>5.0</td>\n",
       "      <td>4.0</td>\n",
       "      <td>4.0</td>\n",
       "      <td>1.0</td>\n",
       "      <td>0</td>\n",
       "    </tr>\n",
       "    <tr>\n",
       "      <th>676</th>\n",
       "      <td>714039.0</td>\n",
       "      <td>3.0</td>\n",
       "      <td>1.0</td>\n",
       "      <td>1.0</td>\n",
       "      <td>1.0</td>\n",
       "      <td>2.0</td>\n",
       "      <td>1.0</td>\n",
       "      <td>1.0</td>\n",
       "      <td>1.0</td>\n",
       "      <td>1.0</td>\n",
       "      <td>1</td>\n",
       "    </tr>\n",
       "    <tr>\n",
       "      <th>677</th>\n",
       "      <td>763235.0</td>\n",
       "      <td>3.0</td>\n",
       "      <td>1.0</td>\n",
       "      <td>1.0</td>\n",
       "      <td>1.0</td>\n",
       "      <td>2.0</td>\n",
       "      <td>1.0</td>\n",
       "      <td>2.0</td>\n",
       "      <td>1.0</td>\n",
       "      <td>2.0</td>\n",
       "      <td>1</td>\n",
       "    </tr>\n",
       "    <tr>\n",
       "      <th>678</th>\n",
       "      <td>776715.0</td>\n",
       "      <td>3.0</td>\n",
       "      <td>1.0</td>\n",
       "      <td>1.0</td>\n",
       "      <td>1.0</td>\n",
       "      <td>3.0</td>\n",
       "      <td>2.0</td>\n",
       "      <td>1.0</td>\n",
       "      <td>1.0</td>\n",
       "      <td>1.0</td>\n",
       "      <td>1</td>\n",
       "    </tr>\n",
       "    <tr>\n",
       "      <th>679</th>\n",
       "      <td>841769.0</td>\n",
       "      <td>2.0</td>\n",
       "      <td>1.0</td>\n",
       "      <td>1.0</td>\n",
       "      <td>1.0</td>\n",
       "      <td>2.0</td>\n",
       "      <td>1.0</td>\n",
       "      <td>1.0</td>\n",
       "      <td>1.0</td>\n",
       "      <td>1.0</td>\n",
       "      <td>1</td>\n",
       "    </tr>\n",
       "    <tr>\n",
       "      <th>680</th>\n",
       "      <td>888820.0</td>\n",
       "      <td>5.0</td>\n",
       "      <td>10.0</td>\n",
       "      <td>10.0</td>\n",
       "      <td>3.0</td>\n",
       "      <td>7.0</td>\n",
       "      <td>3.0</td>\n",
       "      <td>8.0</td>\n",
       "      <td>10.0</td>\n",
       "      <td>2.0</td>\n",
       "      <td>0</td>\n",
       "    </tr>\n",
       "    <tr>\n",
       "      <th>681</th>\n",
       "      <td>897471.0</td>\n",
       "      <td>4.0</td>\n",
       "      <td>8.0</td>\n",
       "      <td>6.0</td>\n",
       "      <td>4.0</td>\n",
       "      <td>3.0</td>\n",
       "      <td>4.0</td>\n",
       "      <td>10.0</td>\n",
       "      <td>6.0</td>\n",
       "      <td>1.0</td>\n",
       "      <td>0</td>\n",
       "    </tr>\n",
       "    <tr>\n",
       "      <th>682</th>\n",
       "      <td>897471.0</td>\n",
       "      <td>4.0</td>\n",
       "      <td>8.0</td>\n",
       "      <td>8.0</td>\n",
       "      <td>5.0</td>\n",
       "      <td>4.0</td>\n",
       "      <td>5.0</td>\n",
       "      <td>10.0</td>\n",
       "      <td>4.0</td>\n",
       "      <td>1.0</td>\n",
       "      <td>0</td>\n",
       "    </tr>\n",
       "  </tbody>\n",
       "</table>\n",
       "<p>683 rows × 11 columns</p>\n",
       "</div>"
      ],
      "text/plain": [
       "            0    1     2     3    4    5     6     7     8    9   10\n",
       "0    1000025.0  5.0   1.0   1.0  1.0  2.0   1.0   3.0   1.0  1.0   1\n",
       "1    1002945.0  5.0   4.0   4.0  5.0  7.0  10.0   3.0   2.0  1.0   1\n",
       "2    1015425.0  3.0   1.0   1.0  1.0  2.0   2.0   3.0   1.0  1.0   1\n",
       "3    1016277.0  6.0   8.0   8.0  1.0  3.0   4.0   3.0   7.0  1.0   1\n",
       "4    1017023.0  4.0   1.0   1.0  3.0  2.0   1.0   3.0   1.0  1.0   1\n",
       "5    1017122.0  8.0  10.0  10.0  8.0  7.0  10.0   9.0   7.0  1.0   0\n",
       "6    1018099.0  1.0   1.0   1.0  1.0  2.0  10.0   3.0   1.0  1.0   1\n",
       "7    1018561.0  2.0   1.0   2.0  1.0  2.0   1.0   3.0   1.0  1.0   1\n",
       "8    1033078.0  2.0   1.0   1.0  1.0  2.0   1.0   1.0   1.0  5.0   1\n",
       "9    1033078.0  4.0   2.0   1.0  1.0  2.0   1.0   2.0   1.0  1.0   1\n",
       "..         ...  ...   ...   ...  ...  ...   ...   ...   ...  ...  ..\n",
       "673   654546.0  1.0   1.0   1.0  1.0  2.0   1.0   1.0   1.0  8.0   1\n",
       "674   654546.0  1.0   1.0   1.0  3.0  2.0   1.0   1.0   1.0  1.0   1\n",
       "675   695091.0  5.0  10.0  10.0  5.0  4.0   5.0   4.0   4.0  1.0   0\n",
       "676   714039.0  3.0   1.0   1.0  1.0  2.0   1.0   1.0   1.0  1.0   1\n",
       "677   763235.0  3.0   1.0   1.0  1.0  2.0   1.0   2.0   1.0  2.0   1\n",
       "678   776715.0  3.0   1.0   1.0  1.0  3.0   2.0   1.0   1.0  1.0   1\n",
       "679   841769.0  2.0   1.0   1.0  1.0  2.0   1.0   1.0   1.0  1.0   1\n",
       "680   888820.0  5.0  10.0  10.0  3.0  7.0   3.0   8.0  10.0  2.0   0\n",
       "681   897471.0  4.0   8.0   6.0  4.0  3.0   4.0  10.0   6.0  1.0   0\n",
       "682   897471.0  4.0   8.0   8.0  5.0  4.0   5.0  10.0   4.0  1.0   0\n",
       "\n",
       "[683 rows x 11 columns]"
      ]
     },
     "execution_count": 47,
     "metadata": {},
     "output_type": "execute_result"
    }
   ],
   "source": [
    "data = load_data(\"breast-cancer\")\n",
    "data"
   ]
  },
  {
   "cell_type": "markdown",
   "metadata": {},
   "source": [
    "## Visualization"
   ]
  },
  {
   "cell_type": "code",
   "execution_count": 48,
   "metadata": {
    "ExecuteTime": {
     "end_time": "2018-04-08T15:46:01.784799Z",
     "start_time": "2018-04-08T15:45:56.230938Z"
    }
   },
   "outputs": [
    {
     "data": {
      "image/png": "[encoded data removed]",
      "text/plain": [
       "<Figure size 1080x1080 with 12 Axes>"
      ]
     },
     "metadata": {},
     "output_type": "display_data"
    }
   ],
   "source": [
    "# Histogram of original dataframe\n",
    "pd.DataFrame.hist(data=data, figsize=[15,15], bins=20);"
   ]
  },
  {
   "cell_type": "markdown",
   "metadata": {},
   "source": [
    "## Data Processing"
   ]
  },
  {
   "cell_type": "code",
   "execution_count": 38,
   "metadata": {
    "ExecuteTime": {
     "end_time": "2018-04-08T15:43:59.741154Z",
     "start_time": "2018-04-08T15:43:59.604662Z"
    }
   },
   "outputs": [
    {
     "name": "stdout",
     "output_type": "stream",
     "text": [
      "Original data points: 270\n",
      "Test split: 20.0%\n",
      "Training points: 216, Test points: 54\n",
      "Number of folds: 5\n",
      "Train points: 173\n",
      "Val points: 43\n"
     ]
    }
   ],
   "source": [
    "# randomly split data set into train and test sets\n",
    "from sklearn.model_selection import train_test_split\n",
    "\n",
    "row, col = data.shape\n",
    "\n",
    "X_data = data.loc[:, :col - 2].values\n",
    "y_data = data.loc[:, col - 1].values\n",
    "\n",
    "# print(X_data)\n",
    "# print(y_data)\n",
    "\n",
    "HOLDOUT_SPLIT = 0.2\n",
    "\n",
    "X_train, X_test, y_train, y_test = train_test_split(X_data, \n",
    "                                                    y_data, \n",
    "                                                    test_size=HOLDOUT_SPLIT,\n",
    "                                                    shuffle=True)\n",
    "\n",
    "# transform to column vectors\n",
    "y_train = y_train.reshape(-1,1)\n",
    "y_test = y_test.reshape(-1,1)\n",
    "\n",
    "print(('Original data points: {}'.format(np.shape(X_data)[0])))\n",
    "print(('Test split: {}%'.format(HOLDOUT_SPLIT * 100)))\n",
    "print(('Training points: {}, Test points: {}'.format(np.shape(X_train)[0], \n",
    "                                                    np.shape(X_test)[0])))\n",
    "\n",
    "\n",
    "# Precompute normalization of k-fold train/val sets for inputs\n",
    "# Use scale by median and IQR (aka 'robust scaling')\n",
    "# Leave outputs as binary\n",
    "\n",
    "from sklearn.model_selection import KFold\n",
    "from sklearn.preprocessing import RobustScaler\n",
    "\n",
    "import torch\n",
    "from torch.autograd import Variable\n",
    "\n",
    "\n",
    "K_FOLDS = 5\n",
    "\n",
    "cv_data = [[]]*K_FOLDS\n",
    "index = 0\n",
    "\n",
    "kf = KFold(n_splits=K_FOLDS)\n",
    "for train_loc, val_loc in kf.split(X_train):\n",
    "    # create robust scaler for input\n",
    "    scale_in = RobustScaler().fit(X_train[train_loc])\n",
    "    \n",
    "    # train data for each fold\n",
    "    X_train_scale = scale_in.transform(X_train[train_loc])\n",
    "    y_train_scale = y_train[train_loc]  # don't scale binary\n",
    "    \n",
    "    # validation data for each fold\n",
    "    X_val_scale = scale_in.transform(X_train[val_loc])\n",
    "    y_val_scale = y_train[val_loc]\n",
    "    \n",
    "    # store to unpack later\n",
    "    cv_data[index] = (\n",
    "         Variable(torch.FloatTensor(X_train_scale), requires_grad=False),\n",
    "         Variable(torch.FloatTensor(X_val_scale), requires_grad=False),\n",
    "         Variable(torch.FloatTensor(y_train_scale), requires_grad=False),         \n",
    "         Variable(torch.FloatTensor(y_val_scale), requires_grad=False)\n",
    "    )\n",
    "    \n",
    "    index += 1\n",
    "\n",
    "print(('Number of folds: {}'.format(K_FOLDS)))\n",
    "print(('Train points: {}'.format(np.size(train_loc))))\n",
    "print(('Val points: {}'.format(np.size(val_loc))))"
   ]
  },
  {
   "cell_type": "code",
   "execution_count": 39,
   "metadata": {
    "ExecuteTime": {
     "end_time": "2018-04-08T15:43:59.889970Z",
     "start_time": "2018-04-08T15:43:59.868721Z"
    }
   },
   "outputs": [
    {
     "name": "stdout",
     "output_type": "stream",
     "text": [
      "Train points: 216\n",
      "Test points: 54\n"
     ]
    }
   ],
   "source": [
    "# create robust scaler for input\n",
    "scale_in = RobustScaler().fit(X_train)\n",
    "\n",
    "# all of train data\n",
    "X_train_scale = scale_in.transform(X_train)\n",
    "y_train_scale = y_train  # don't scale binary\n",
    "\n",
    "# all of test data\n",
    "X_test_scale = scale_in.transform(X_test)\n",
    "y_test_scale = y_test\n",
    "\n",
    "# prepare for PyTorch\n",
    "X_train_tor = Variable(torch.FloatTensor(X_train_scale), requires_grad=False)\n",
    "X_test_tor = Variable(torch.FloatTensor(X_test_scale), requires_grad=False)\n",
    "y_train_tor = Variable(torch.FloatTensor(y_train_scale), requires_grad=False)         \n",
    "y_test_tor = Variable(torch.FloatTensor(y_test_scale), requires_grad=False)\n",
    "\n",
    "print('Train points: {}'.format(np.size(y_train_scale)))\n",
    "print('Test points: {}'.format(np.size(y_test_scale)))"
   ]
  },
  {
   "cell_type": "markdown",
   "metadata": {},
   "source": [
    "##  Define Neural Network"
   ]
  },
  {
   "cell_type": "code",
   "execution_count": 40,
   "metadata": {
    "ExecuteTime": {
     "end_time": "2018-04-08T15:44:00.033794Z",
     "start_time": "2018-04-08T15:43:59.972769Z"
    }
   },
   "outputs": [],
   "source": [
    "import torch.nn as nn\n",
    "import torch.optim as optim\n",
    "import torch.nn.functional as F\n",
    "\n",
    "class Net(torch.nn.Module):\n",
    "    \n",
    "    # list of hyperparameters\n",
    "    INPUT_SIZE = col - 1\n",
    "    OUTPUT_SIZE = 1\n",
    "    L2_PEN = 1e-6\n",
    "    NUM_EPOCHS = 500\n",
    "    H1_SIZE = 1024\n",
    "    H2_SIZE = 64\n",
    "    H3_SIZE = 64\n",
    "    H1_DROPOUT = 0.9\n",
    "    LR = 0.1\n",
    "    \n",
    "    def __init__(self):\n",
    "        super(Net, self).__init__()\n",
    "        self.h1 = nn.Sequential(nn.Linear(Net.INPUT_SIZE, Net.H1_SIZE, bias=True),\n",
    "                                nn.LeakyReLU(negative_slope=0.01),\n",
    "                                nn.Dropout(p=Net.H1_DROPOUT))\n",
    "        self.h2 = nn.Sequential(nn.Linear(Net.H1_SIZE, Net.H2_SIZE, bias=False),\n",
    "                                nn.LeakyReLU(negative_slope=0.01))\n",
    "        self.h3 = nn.Sequential(nn.Linear(Net.H2_SIZE, Net.H3_SIZE, bias=False),\n",
    "                                nn.LeakyReLU(negative_slope=0.01))\n",
    "        self.output = nn.Sequential(nn.Linear(Net.H3_SIZE, Net.OUTPUT_SIZE, bias=False),\n",
    "                                nn.Sigmoid())\n",
    "        \n",
    "    def forward(self, x):\n",
    "        \n",
    "        out = self.h1(x)\n",
    "        out = self.h2(out)\n",
    "        out = self.h3(out)\n",
    "        out = self.output(out)     \n",
    "        \n",
    "        return out"
   ]
  },
  {
   "cell_type": "markdown",
   "metadata": {},
   "source": [
    "## Define ResNet Based on Net"
   ]
  },
  {
   "cell_type": "code",
   "execution_count": 41,
   "metadata": {
    "ExecuteTime": {
     "end_time": "2018-04-08T15:44:00.200310Z",
     "start_time": "2018-04-08T15:44:00.118469Z"
    }
   },
   "outputs": [],
   "source": [
    "class ResNet(torch.nn.Module):\n",
    "    \n",
    "    # list of hyperparameters\n",
    "    INPUT_SIZE = col - 1\n",
    "    OUTPUT_SIZE = 1\n",
    "    L2_PEN = 1e-6\n",
    "    NUM_EPOCHS = 500\n",
    "    H1_SIZE = INPUT_SIZE\n",
    "    H2_SIZE = INPUT_SIZE\n",
    "    H3_SIZE = INPUT_SIZE\n",
    "    H1_DROPOUT = 0.9\n",
    "    LR = 0.1\n",
    "    \n",
    "    def __init__(self):\n",
    "        super(ResNet, self).__init__()\n",
    "        self.h1 = nn.Sequential(nn.Linear(ResNet.INPUT_SIZE, ResNet.H1_SIZE, bias=True),\n",
    "                                nn.LeakyReLU(negative_slope=0.01),\n",
    "                                nn.Dropout(p=ResNet.H1_DROPOUT))\n",
    "        self.h2 = nn.Sequential(nn.Linear(ResNet.H1_SIZE, ResNet.H2_SIZE, bias=False),\n",
    "                                nn.LeakyReLU(negative_slope=0.01))\n",
    "        self.h3 = nn.Sequential(nn.Linear(ResNet.H2_SIZE, ResNet.H3_SIZE, bias=False),\n",
    "                                nn.LeakyReLU(negative_slope=0.01))\n",
    "        self.h4 = nn.Sequential(nn.Linear(ResNet.H2_SIZE, ResNet.H3_SIZE, bias=False),\n",
    "                                nn.LeakyReLU(negative_slope=0.01))\n",
    "        self.output = nn.Sequential(nn.Linear(ResNet.H3_SIZE, ResNet.OUTPUT_SIZE, bias=False),\n",
    "                                nn.Sigmoid())\n",
    "        \n",
    "    def forward(self, x):\n",
    "        \n",
    "        out = self.h1(x) + x\n",
    "        out = self.h2(out) + out\n",
    "        out = self.h3(out) + out\n",
    "        out = self.h4(out) + out\n",
    "        out = self.output(out)     \n",
    "        \n",
    "        return out"
   ]
  },
  {
   "cell_type": "markdown",
   "metadata": {},
   "source": [
    "### Define Accuracy for Predictions"
   ]
  },
  {
   "cell_type": "code",
   "execution_count": 42,
   "metadata": {
    "ExecuteTime": {
     "end_time": "2018-04-08T15:44:00.338217Z",
     "start_time": "2018-04-08T15:44:00.320767Z"
    }
   },
   "outputs": [],
   "source": [
    "def accuracy(y_pred, y_true):\n",
    "    right = np.sum((y_pred.data.numpy() > 0.5) == y_true.data.numpy())\n",
    "    total = y_true.data.numpy().shape[0]\n",
    "    return 100. * float(right) / float(total)"
   ]
  },
  {
   "cell_type": "markdown",
   "metadata": {},
   "source": [
    "## Training and Testing"
   ]
  },
  {
   "cell_type": "code",
   "execution_count": 43,
   "metadata": {
    "ExecuteTime": {
     "end_time": "2018-04-08T15:44:00.705225Z",
     "start_time": "2018-04-08T15:44:00.502977Z"
    }
   },
   "outputs": [],
   "source": [
    "def train_test(network):\n",
    "\n",
    "    VERBOSE = True\n",
    "\n",
    "    final_net = network\n",
    "    final_net.train()\n",
    "\n",
    "    # optimizer = torch.optim.Adam(net.parameters(), weight_decay=Net.L2_PEN, lr=Net.LR)\n",
    "    optimizer = torch.optim.SGD(final_net.parameters(), \n",
    "                                weight_decay=Net.L2_PEN, \n",
    "                                lr=Net.LR,\n",
    "                                momentum=0.0,\n",
    "                                dampening=0.0,\n",
    "                                nesterov=False)\n",
    "    loss_func = torch.nn.BCELoss()\n",
    "\n",
    "    epochs = np.arange(Net.NUM_EPOCHS)\n",
    "    hist_loss_train = np.zeros(Net.NUM_EPOCHS)\n",
    "    hist_loss_test = np.zeros(Net.NUM_EPOCHS)\n",
    "    hist_correct_train = np.zeros(Net.NUM_EPOCHS)\n",
    "    hist_correct_test = np.zeros(Net.NUM_EPOCHS)\n",
    "\n",
    "    for step in range(Net.NUM_EPOCHS):\n",
    "        # Show improvement on test set\n",
    "        final_net.eval()\n",
    "        test_pred = final_net(X_test_tor)\n",
    "        loss_test = loss_func(test_pred, y_test_tor)\n",
    "        hist_loss_test[step] = loss_test\n",
    "        hist_correct_test[step] = accuracy(test_pred, y_test_tor)\n",
    "\n",
    "        # Perform train cost fn\n",
    "        final_net.train()\n",
    "        train_pred = final_net(X_train_tor)\n",
    "        loss_train = loss_func(train_pred, y_train_tor)\n",
    "        hist_loss_train[step] = loss_train\n",
    "        hist_correct_train[step] = accuracy(train_pred, y_train_tor)\n",
    "\n",
    "        if VERBOSE and ((step % 100) == 0) and step != 0:\n",
    "            print('Step: {}'.format(step))\n",
    "            print('\\tTrain Accuracy: {}%'.format(hist_correct_train[step]))\n",
    "            print('\\tTest Accuracy: {}%'.format(hist_correct_test[step]))\n",
    "\n",
    "        # Update based on train performance\n",
    "        optimizer.zero_grad()\n",
    "        loss_train.backward()\n",
    "        optimizer.step()\n",
    "\n",
    "    print('\\nFinal Train Accuracy: {}%'.format(hist_correct_train[-1]))\n",
    "    print('Final Test Accuracy: {}%'.format(hist_correct_test[-1]))\n",
    "    # print('Mean cross validation performance: {}'.format(fold_mean))\n",
    "    \n",
    "    plt.plot(epochs, hist_correct_train, epochs, hist_correct_test)\n",
    "    # plt.title('Final Test Accuracy'.format(fold))\n",
    "    plt.xlabel('Epoch')\n",
    "    plt.ylabel('Accuracy')\n",
    "    plt.legend(['Train', 'Test'], loc='lower right')\n",
    "    plt.show()"
   ]
  },
  {
   "cell_type": "code",
   "execution_count": 44,
   "metadata": {
    "ExecuteTime": {
     "end_time": "2018-04-08T15:44:11.100817Z",
     "start_time": "2018-04-08T15:44:01.061849Z"
    }
   },
   "outputs": [
    {
     "name": "stdout",
     "output_type": "stream",
     "text": [
      "Net: \n",
      "Step: 100\n",
      "\tTrain Accuracy: 78.70370370370371%\n",
      "\tTest Accuracy: 92.5925925925926%\n",
      "Step: 200\n",
      "\tTrain Accuracy: 82.4074074074074%\n",
      "\tTest Accuracy: 94.44444444444444%\n",
      "Step: 300\n",
      "\tTrain Accuracy: 81.48148148148148%\n",
      "\tTest Accuracy: 94.44444444444444%\n",
      "Step: 400\n",
      "\tTrain Accuracy: 86.57407407407408%\n",
      "\tTest Accuracy: 94.44444444444444%\n",
      "\n",
      "Final Train Accuracy: 86.57407407407408%\n",
      "Final Test Accuracy: 94.44444444444444%\n"
     ]
    },
    {
     "data": {
      "image/png": "[encoded data removed]",
      "text/plain": [
       "<Figure size 432x288 with 1 Axes>"
      ]
     },
     "metadata": {},
     "output_type": "display_data"
    },
    {
     "name": "stdout",
     "output_type": "stream",
     "text": [
      "\n",
      "ResNet: \n",
      "Step: 100\n",
      "\tTrain Accuracy: 80.55555555555556%\n",
      "\tTest Accuracy: 83.33333333333333%\n",
      "Step: 200\n",
      "\tTrain Accuracy: 84.25925925925925%\n",
      "\tTest Accuracy: 87.03703703703704%\n",
      "Step: 300\n",
      "\tTrain Accuracy: 87.03703703703704%\n",
      "\tTest Accuracy: 88.88888888888889%\n",
      "Step: 400\n",
      "\tTrain Accuracy: 88.42592592592592%\n",
      "\tTest Accuracy: 85.18518518518519%\n",
      "\n",
      "Final Train Accuracy: 91.66666666666667%\n",
      "Final Test Accuracy: 85.18518518518519%\n"
     ]
    },
    {
     "data": {
      "image/png": "[encoded data removed]",
      "text/plain": [
       "<Figure size 432x288 with 1 Axes>"
      ]
     },
     "metadata": {},
     "output_type": "display_data"
    }
   ],
   "source": [
    "print('Net: ')\n",
    "train_test(Net())\n",
    "print('\\nResNet: ')\n",
    "train_test(ResNet())"
   ]
  },
  {
   "cell_type": "code",
   "execution_count": null,
   "metadata": {},
   "outputs": [],
   "source": []
  }
 ],
 "metadata": {
  "kernelspec": {
   "display_name": "Python 3",
   "language": "python",
   "name": "python3"
  },
  "language_info": {
   "codemirror_mode": {
    "name": "ipython",
    "version": 3
   },
   "file_extension": ".py",
   "mimetype": "text/x-python",
   "name": "python",
   "nbconvert_exporter": "python",
   "pygments_lexer": "ipython3",
   "version": "3.6.4"
  },
  "latex_envs": {
   "LaTeX_envs_menu_present": true,
   "autoclose": false,
   "autocomplete": true,
   "bibliofile": "biblio.bib",
   "cite_by": "apalike",
   "current_citInitial": 1,
   "eqLabelWithNumbers": true,
   "eqNumInitial": 1,
   "hotkeys": {
    "equation": "Ctrl-E",
    "itemize": "Ctrl-I"
   },
   "labels_anchors": false,
   "latex_user_defs": false,
   "report_style_numbering": false,
   "user_envs_cfg": false
  },
  "varInspector": {
   "cols": {
    "lenName": 16,
    "lenType": 16,
    "lenVar": 40
   },
   "kernels_config": {
    "python": {
     "delete_cmd_postfix": "",
     "delete_cmd_prefix": "del ",
     "library": "var_list.py",
     "varRefreshCmd": "print(var_dic_list())"
    },
    "r": {
     "delete_cmd_postfix": ") ",
     "delete_cmd_prefix": "rm(",
     "library": "var_list.r",
     "varRefreshCmd": "cat(var_dic_list()) "
    }
   },
   "types_to_exclude": [
    "module",
    "function",
    "builtin_function_or_method",
    "instance",
    "_Feature"
   ],
   "window_display": false
  }
 },
 "nbformat": 4,
 "nbformat_minor": 2
}
